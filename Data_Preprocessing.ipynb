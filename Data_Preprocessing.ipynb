{
 "cells": [
  {
   "cell_type": "markdown",
   "id": "ebabb2be",
   "metadata": {},
   "source": [
    "# Pre-Processing: Vom Text zu Daten"
   ]
  },
  {
   "cell_type": "markdown",
   "id": "da429d9e",
   "metadata": {},
   "source": [
    "## Ablauf...\n",
    "\n",
    "* [Run code](#1-bullet)\n",
    "* [Tabelle mit Texten importieren](#2-bullet)\n",
    "* [Den Text \"reinigen\" und Stop-Wörter entfernen](#3-bullet)\n",
    "* [Lemmatisierung von Wörtern](#4-bullet)\n",
    "* [Part of Speech Tagging](#5-bullet)\n",
    "* [Named Emtities Recognition](6#-bullet)\n",
    "* [Gewünschten Text exportieren](#7-bullet)"
   ]
  },
  {
   "cell_type": "markdown",
   "id": "e51ad1c6",
   "metadata": {},
   "source": [
    "## Run code <a class=\"anchor\" id=\"1-bullet\"></a>\n",
    "\n",
    "Um Code in *Jupyter Notebooks* auszühren, müssen Sie auf **Run** klicken, das sich in der oberen Leiste finden. Klicken Sie dafür zunächst auf das Feld, das Sie ausführen möchten und anschließend auf **Run**. Sie können auch 'Shift' und 'enter' verwenden. Wenn der Code gerade ausgeführt, erscheint links im Kästchen ein Sternchen. Dies bedeutet, dass das Programm gerade arbeitet. Wurde der Code erfolgreich ausgeführt. erscheint eine Nummer im selben Kästchen."
   ]
  },
  {
   "cell_type": "code",
   "execution_count": 1,
   "id": "ca349727",
   "metadata": {},
   "outputs": [
    {
     "name": "stderr",
     "output_type": "stream",
     "text": [
      "C:\\Users\\c62255\\AppData\\Roaming\\Python\\Python37\\site-packages\\gensim\\similarities\\__init__.py:15: UserWarning: The gensim.similarities.levenshtein submodule is disabled, because the optional Levenshtein package <https://pypi.org/project/python-Levenshtein/> is unavailable. Install Levenhstein (e.g. `pip install python-Levenshtein`) to suppress this warning.\n",
      "  warnings.warn(msg)\n"
     ]
    }
   ],
   "source": [
    "#languange processing imports\n",
    "import gensim, spacy, logging, warnings\n",
    "import matplotlib.pyplot as plt\n",
    "import nltk\n",
    "from nltk.corpus import stopwords\n",
    "import sys\n",
    "import re, numpy as np, pandas as pd\n",
    "from pprint import pprint\n",
    "import spacy\n",
    "from openpyxl import Workbook\n",
    "\n",
    "#For the text overview\n",
    "from nltk import FreqDist\n",
    "\n",
    "#Word Cloud and Visualization\n",
    "\n",
    "from wordcloud import WordCloud, STOPWORDS\n",
    "from sklearn.feature_extraction.text import CountVectorizer\n",
    "import matplotlib.ticker as mtick\n",
    "import matplotlib.pyplot as plt"
   ]
  },
  {
   "cell_type": "markdown",
   "id": "60db4da2",
   "metadata": {},
   "source": [
    "## Tabelle mit Texten importieren <a class=\"anchor\" id=\"2-bullet\"></a>\n",
    "\n",
    "Hier sehen Sie die importierte Excel-Tabelle"
   ]
  },
  {
   "cell_type": "code",
   "execution_count": 2,
   "id": "596a5490",
   "metadata": {},
   "outputs": [
    {
     "data": {
      "text/html": [
       "<style  type=\"text/css\" >\n",
       "</style><table id=\"T_ef2a002e_1d59_11ec_a43a_e470b8a9ba13\" ><caption>Excel Tabelle</caption><thead>    <tr>        <th class=\"col_heading level0 col0\" >jahrgang</th>        <th class=\"col_heading level0 col1\" >zeitung</th>        <th class=\"col_heading level0 col2\" >datum</th>        <th class=\"col_heading level0 col3\" >ausgabe</th>        <th class=\"col_heading level0 col4\" >text</th>    </tr></thead><tbody>\n",
       "                <tr>\n",
       "                                <td id=\"T_ef2a002e_1d59_11ec_a43a_e470b8a9ba13row0_col0\" class=\"data row0 col0\" >1946</td>\n",
       "                        <td id=\"T_ef2a002e_1d59_11ec_a43a_e470b8a9ba13row0_col1\" class=\"data row0 col1\" >Dolomiten</td>\n",
       "                        <td id=\"T_ef2a002e_1d59_11ec_a43a_e470b8a9ba13row0_col2\" class=\"data row0 col2\" >1946-11-10 00:00:00</td>\n",
       "                        <td id=\"T_ef2a002e_1d59_11ec_a43a_e470b8a9ba13row0_col3\" class=\"data row0 col3\" >2</td>\n",
       "                        <td id=\"T_ef2a002e_1d59_11ec_a43a_e470b8a9ba13row0_col4\" class=\"data row0 col4\" >Achtung! Südtiroler!\n",
       "\n",
       "\n",
       "Die Optanten für Deutschland, die effektiv abgewandert waren und in der Zwischenzeit wieder nach Italien zurückgekehrt sind,\n",
       "werden ersucht, ihre Erklärungen zwecks Wiedererlangung der italienischen Staatsbürger-\n",
       "schaft erst nach dem 20. Februar 1948 abzu\n",
       "geben, um das Optionsamt im gegenwärtigen\n",
       "Zeitpunkt nicht zu überlasten.\n",
       "Die eingebürgerten Optanten, die in Italien\n",
       "verblieben sind, sowie alle diejenigen, welche\n",
       "nach Art. 15 des Optionsdekretes nicht als\n",
       "„abgewandert“ anzusehen sind, werden dringend aufgefordert, ihre Erklärungen nach Art. 2\n",
       "des erwähnten Optionsdekretes rechtzeitig. d. i. bis zum 20, Februar 1948, einzureichen, und zwar auch dann, wenn sie in den\n",
       "Wählerlisten eingetragen sind, weil sie sonst\n",
       "Gefahr laufen, aus denselben gestrichen zu\n",
       "werden. Es wird ausdrücklich darauf aufmerksam gemacht, daß viele eingebürgerte Optanten\n",
       "die auf Grund der gesetzlichen Bestimmungen\n",
       "nicht als abgewandert zu gelten haben, sowie\n",
       "auch solche, die während der ganzen Zeit Italien überhaupt nie verlassen haben, in den Refistern der Gemeinden als abgewandert figurieren; diese werden daher besonders gebeten,\n",
       "ihre Erklärunden fristgerecht, d. i. bis zum\n",
       "20. Februar 1948, abzugeben, und falls die Eintragung in die Wählerlisten verweigert werden sollte, umgehend bei der Bezirkskommission\n",
       "(Commissione Elettorale Mandamentale) Einspruch zu erheben. Zu diesem Zwecke ist es\n",
       "erforderlich, daß jeder eingebürgerte Optant,\n",
       "der die obenerwähnte Erklärung abgegeben hat,\n",
       "sich persönlich davon überzeugt, ob die Eintragung in die Wählerlisten erfolgt ist.\n",
       "Die sogenannten Rückwähler, das sind diejenigen, welche vor dem 9. September 1943 bei\n",
       "der Präfektur um Annullierung der Option für\n",
       "Deutschland angesucht haben, müssen sich persönlich davon überzeugen, ob sie auf Grund\n",
       "der Rückoption auch tatsächlich wieder als\n",
       "italienische Staatsbürger eingetragen wurden.\n",
       "Ist dies nicht der Fall oder besieht diesbezüglich irgend eine Unsicherheit, so müssen die\n",
       "selben die im Optionsgesetz vorgesehene Erklärung abdeben, weil sonst die Gelahr besteht, daß sie die italienische Staatsbürgerschaft nicht erlangen.\n",
       "Die Optanten werden aufmerksam gemacht,\n",
       "daß die Präfektur Bozen an alle Gemeinden\n",
       "die Weisung ergehen ließ, bei der Ausgabe der\n",
       "Erklärungsformulare keinerlei Schwierigkeiten\n",
       "zu bereiten, weshalb alle Optanten denen die\n",
       "Ausfolgung der Formulare verweigert wurde\n",
       "ersucht werden, dieselben neuerlich anzufordern.</td>\n",
       "            </tr>\n",
       "            <tr>\n",
       "                                <td id=\"T_ef2a002e_1d59_11ec_a43a_e470b8a9ba13row1_col0\" class=\"data row1 col0\" >1947</td>\n",
       "                        <td id=\"T_ef2a002e_1d59_11ec_a43a_e470b8a9ba13row1_col1\" class=\"data row1 col1\" >Dolomiten</td>\n",
       "                        <td id=\"T_ef2a002e_1d59_11ec_a43a_e470b8a9ba13row1_col2\" class=\"data row1 col2\" >1947-11-10 00:00:00</td>\n",
       "                        <td id=\"T_ef2a002e_1d59_11ec_a43a_e470b8a9ba13row1_col3\" class=\"data row1 col3\" >3</td>\n",
       "                        <td id=\"T_ef2a002e_1d59_11ec_a43a_e470b8a9ba13row1_col4\" class=\"data row1 col4\" >\n",
       "Dabei muß klargestellt werden, daß der\n",
       "jetzigen Belegschaft aus der Wiederanstellung der Südtiroler arbeits- und anstellungsmäßig nicht der geringste Nachteil erwachsen\n",
       "würde. Man sagt nicht etwa, daß die italienischen Angestellten und Arbeiter, welche im\n",
       "Jahre 1940 die Nachfolge der entlassenen\n",
       "Südtiroler antraten, diesen wieder Platz machen müßten. Nein, da die Etschwerke infolge\n",
       "ihrer wachsenden Aufgaben, neue Arbeitskräfte nötig haben, sollten zu den bisherigen\n",
       "die Südtiroler Rückoptanten zusätzlich aufgenommen werden.\n",
       "Es sei auch noch daran erinnert, daß diese\n",
       "Rückoptanten bei den Etschwerken nicht freiwillig aus dem Dienst schieden, sondern nach\n",
       "ihrer Option im Jahre 1939 vom Werk entlassen wurden mit der Begründung, daß die\n",
       "Etschwerke eine öffentliche Körperschaft seien\n",
       "und deswegen nichtitalienische Staatsbürger\n",
       "nicht mehr beschäftigen dürften.\n",
       "Damit fällt auch das letzte scheinheilig\n",
       "Mäntelchen, mit welchem die Wortführer der\n",
       "Belegschaft ihre nationalgehässige Streikdrohung zu umgeben versuchten, nämlich die\n",
       "Behauptung, daß die Etschwerke keine öffentliche Körperschaft seien, auf welche die Be¬\n",
       "stimmungen des Gesetzes vom Jahre 1952\n",
       "Anwendung finden.</td>\n",
       "            </tr>\n",
       "    </tbody></table>"
      ],
      "text/plain": [
       "<pandas.io.formats.style.Styler at 0x237be346908>"
      ]
     },
     "execution_count": 2,
     "metadata": {},
     "output_type": "execute_result"
    }
   ],
   "source": [
    "df = pd.read_excel(('Data/test.xlsx'), engine='openpyxl',)\n",
    "df_text = df['text']\n",
    "df.style.set_caption('Excel Tabelle').hide_index()"
   ]
  },
  {
   "cell_type": "markdown",
   "id": "f89d2212",
   "metadata": {},
   "source": [
    "## Den Text \"reinigen\" und Stop-Wörter entfernen <a class=\"anchor\" id=\"3-bullet\"></a>\n",
    "\n",
    "Nun wird der Text gereinigt, das heißt, es werden Satzzeichen entfernt, alle Wörter werden einheitlich klein geschrieben und Stop-Wörter werden entfernt. Stop-Wörter sind Wörter, die häufig vorkommen und haben für gewöhnlich keine Relevanz für weitere Analysen. Hierzu gehören Wörter wie \"und\", \"auf\", \"mit\" usw. "
   ]
  },
  {
   "cell_type": "code",
   "execution_count": 3,
   "id": "938f27ea",
   "metadata": {
    "scrolled": false
   },
   "outputs": [
    {
     "name": "stderr",
     "output_type": "stream",
     "text": [
      "[nltk_data] Downloading package stopwords to\n",
      "[nltk_data]     C:\\Users\\c62255\\AppData\\Roaming\\nltk_data...\n",
      "[nltk_data]   Package stopwords is already up-to-date!\n",
      "[nltk_data] Downloading package punkt to\n",
      "[nltk_data]     C:\\Users\\c62255\\AppData\\Roaming\\nltk_data...\n",
      "[nltk_data]   Package punkt is already up-to-date!\n"
     ]
    },
    {
     "data": {
      "text/html": [
       "<style  type=\"text/css\" >\n",
       "</style><table id=\"T_ef50f46c_1d59_11ec_8b5f_e470b8a9ba13\" ><caption>Text und Tokens</caption><thead>    <tr>        <th class=\"col_heading level0 col0\" >jahrgang</th>        <th class=\"col_heading level0 col1\" >zeitung</th>        <th class=\"col_heading level0 col2\" >datum</th>        <th class=\"col_heading level0 col3\" >ausgabe</th>        <th class=\"col_heading level0 col4\" >text</th>        <th class=\"col_heading level0 col5\" >tokenized</th>    </tr></thead><tbody>\n",
       "                <tr>\n",
       "                                <td id=\"T_ef50f46c_1d59_11ec_8b5f_e470b8a9ba13row0_col0\" class=\"data row0 col0\" >1946</td>\n",
       "                        <td id=\"T_ef50f46c_1d59_11ec_8b5f_e470b8a9ba13row0_col1\" class=\"data row0 col1\" >Dolomiten</td>\n",
       "                        <td id=\"T_ef50f46c_1d59_11ec_8b5f_e470b8a9ba13row0_col2\" class=\"data row0 col2\" >1946-11-10 00:00:00</td>\n",
       "                        <td id=\"T_ef50f46c_1d59_11ec_8b5f_e470b8a9ba13row0_col3\" class=\"data row0 col3\" >2</td>\n",
       "                        <td id=\"T_ef50f46c_1d59_11ec_8b5f_e470b8a9ba13row0_col4\" class=\"data row0 col4\" >Achtung! Südtiroler!\n",
       "\n",
       "\n",
       "Die Optanten für Deutschland, die effektiv abgewandert waren und in der Zwischenzeit wieder nach Italien zurückgekehrt sind,\n",
       "werden ersucht, ihre Erklärungen zwecks Wiedererlangung der italienischen Staatsbürger-\n",
       "schaft erst nach dem 20. Februar 1948 abzu\n",
       "geben, um das Optionsamt im gegenwärtigen\n",
       "Zeitpunkt nicht zu überlasten.\n",
       "Die eingebürgerten Optanten, die in Italien\n",
       "verblieben sind, sowie alle diejenigen, welche\n",
       "nach Art. 15 des Optionsdekretes nicht als\n",
       "„abgewandert“ anzusehen sind, werden dringend aufgefordert, ihre Erklärungen nach Art. 2\n",
       "des erwähnten Optionsdekretes rechtzeitig. d. i. bis zum 20, Februar 1948, einzureichen, und zwar auch dann, wenn sie in den\n",
       "Wählerlisten eingetragen sind, weil sie sonst\n",
       "Gefahr laufen, aus denselben gestrichen zu\n",
       "werden. Es wird ausdrücklich darauf aufmerksam gemacht, daß viele eingebürgerte Optanten\n",
       "die auf Grund der gesetzlichen Bestimmungen\n",
       "nicht als abgewandert zu gelten haben, sowie\n",
       "auch solche, die während der ganzen Zeit Italien überhaupt nie verlassen haben, in den Refistern der Gemeinden als abgewandert figurieren; diese werden daher besonders gebeten,\n",
       "ihre Erklärunden fristgerecht, d. i. bis zum\n",
       "20. Februar 1948, abzugeben, und falls die Eintragung in die Wählerlisten verweigert werden sollte, umgehend bei der Bezirkskommission\n",
       "(Commissione Elettorale Mandamentale) Einspruch zu erheben. Zu diesem Zwecke ist es\n",
       "erforderlich, daß jeder eingebürgerte Optant,\n",
       "der die obenerwähnte Erklärung abgegeben hat,\n",
       "sich persönlich davon überzeugt, ob die Eintragung in die Wählerlisten erfolgt ist.\n",
       "Die sogenannten Rückwähler, das sind diejenigen, welche vor dem 9. September 1943 bei\n",
       "der Präfektur um Annullierung der Option für\n",
       "Deutschland angesucht haben, müssen sich persönlich davon überzeugen, ob sie auf Grund\n",
       "der Rückoption auch tatsächlich wieder als\n",
       "italienische Staatsbürger eingetragen wurden.\n",
       "Ist dies nicht der Fall oder besieht diesbezüglich irgend eine Unsicherheit, so müssen die\n",
       "selben die im Optionsgesetz vorgesehene Erklärung abdeben, weil sonst die Gelahr besteht, daß sie die italienische Staatsbürgerschaft nicht erlangen.\n",
       "Die Optanten werden aufmerksam gemacht,\n",
       "daß die Präfektur Bozen an alle Gemeinden\n",
       "die Weisung ergehen ließ, bei der Ausgabe der\n",
       "Erklärungsformulare keinerlei Schwierigkeiten\n",
       "zu bereiten, weshalb alle Optanten denen die\n",
       "Ausfolgung der Formulare verweigert wurde\n",
       "ersucht werden, dieselben neuerlich anzufordern.</td>\n",
       "                        <td id=\"T_ef50f46c_1d59_11ec_8b5f_e470b8a9ba13row0_col5\" class=\"data row0 col5\" >['achtung', 'südtiroler', 'optanten', 'deutschland', 'effektiv', 'abgewandert', 'zwischenzeit', 'italien', 'zurückgekehrt', 'ersucht', 'erklärungen', 'zwecks', 'wiedererlangung', 'italienischen', 'staatsbürger', 'schaft', 'erst', '20', 'februar', '1948', 'abzu', 'geben', 'optionsamt', 'gegenwärtigen', 'zeitpunkt', 'überlasten', 'eingebürgerten', 'optanten', 'italien', 'verblieben', 'sowie', 'diejenigen', 'art', '15', 'optionsdekretes', 'abgewandert', 'anzusehen', 'dringend', 'aufgefordert', 'erklärungen', 'art', '2', 'erwähnten', 'optionsdekretes', 'rechtzeitig', 'd', 'i', '20', 'februar', '1948', 'einzureichen', 'wählerlisten', 'eingetragen', 'gefahr', 'laufen', 'gestrichen', 'ausdrücklich', 'darauf', 'aufmerksam', 'gemacht', 'viele', 'eingebürgerte', 'optanten', 'grund', 'gesetzlichen', 'bestimmungen', 'abgewandert', 'gelten', 'sowie', 'ganzen', 'zeit', 'italien', 'überhaupt', 'nie', 'verlassen', 'refistern', 'gemeinden', 'abgewandert', 'figurieren', 'daher', 'besonders', 'gebeten', 'erklärunden', 'fristgerecht', 'd', 'i', '20', 'februar', '1948', 'abzugeben', 'falls', 'eintragung', 'wählerlisten', 'verweigert', 'umgehend', 'bezirkskommission', 'commissione', 'elettorale', 'mandamentale', 'einspruch', 'erheben', 'zwecke', 'erforderlich', 'eingebürgerte', 'optant', 'obenerwähnte', 'erklärung', 'abgegeben', 'persönlich', 'davon', 'überzeugt', 'eintragung', 'wählerlisten', 'erfolgt', 'sogenannten', 'rückwähler', 'diejenigen', '9', 'september', '1943', 'präfektur', 'annullierung', 'option', 'deutschland', 'angesucht', 'müssen', 'persönlich', 'davon', 'überzeugen', 'grund', 'rückoption', 'tatsächlich', 'italienische', 'staatsbürger', 'eingetragen', 'wurden', 'fall', 'besieht', 'diesbezüglich', 'irgend', 'unsicherheit', 'müssen', 'selben', 'optionsgesetz', 'vorgesehene', 'erklärung', 'abdeben', 'gelahr', 'besteht', 'italienische', 'staatsbürgerschaft', 'erlangen', 'optanten', 'aufmerksam', 'gemacht', 'präfektur', 'bozen', 'gemeinden', 'weisung', 'ergehen', 'ließ', 'ausgabe', 'erklärungsformulare', 'keinerlei', 'schwierigkeiten', 'bereiten', 'weshalb', 'optanten', 'denen', 'ausfolgung', 'formulare', 'verweigert', 'wurde', 'ersucht', 'neuerlich', 'anzufordern']</td>\n",
       "            </tr>\n",
       "            <tr>\n",
       "                                <td id=\"T_ef50f46c_1d59_11ec_8b5f_e470b8a9ba13row1_col0\" class=\"data row1 col0\" >1947</td>\n",
       "                        <td id=\"T_ef50f46c_1d59_11ec_8b5f_e470b8a9ba13row1_col1\" class=\"data row1 col1\" >Dolomiten</td>\n",
       "                        <td id=\"T_ef50f46c_1d59_11ec_8b5f_e470b8a9ba13row1_col2\" class=\"data row1 col2\" >1947-11-10 00:00:00</td>\n",
       "                        <td id=\"T_ef50f46c_1d59_11ec_8b5f_e470b8a9ba13row1_col3\" class=\"data row1 col3\" >3</td>\n",
       "                        <td id=\"T_ef50f46c_1d59_11ec_8b5f_e470b8a9ba13row1_col4\" class=\"data row1 col4\" >\n",
       "Dabei muß klargestellt werden, daß der\n",
       "jetzigen Belegschaft aus der Wiederanstellung der Südtiroler arbeits- und anstellungsmäßig nicht der geringste Nachteil erwachsen\n",
       "würde. Man sagt nicht etwa, daß die italienischen Angestellten und Arbeiter, welche im\n",
       "Jahre 1940 die Nachfolge der entlassenen\n",
       "Südtiroler antraten, diesen wieder Platz machen müßten. Nein, da die Etschwerke infolge\n",
       "ihrer wachsenden Aufgaben, neue Arbeitskräfte nötig haben, sollten zu den bisherigen\n",
       "die Südtiroler Rückoptanten zusätzlich aufgenommen werden.\n",
       "Es sei auch noch daran erinnert, daß diese\n",
       "Rückoptanten bei den Etschwerken nicht freiwillig aus dem Dienst schieden, sondern nach\n",
       "ihrer Option im Jahre 1939 vom Werk entlassen wurden mit der Begründung, daß die\n",
       "Etschwerke eine öffentliche Körperschaft seien\n",
       "und deswegen nichtitalienische Staatsbürger\n",
       "nicht mehr beschäftigen dürften.\n",
       "Damit fällt auch das letzte scheinheilig\n",
       "Mäntelchen, mit welchem die Wortführer der\n",
       "Belegschaft ihre nationalgehässige Streikdrohung zu umgeben versuchten, nämlich die\n",
       "Behauptung, daß die Etschwerke keine öffentliche Körperschaft seien, auf welche die Be¬\n",
       "stimmungen des Gesetzes vom Jahre 1952\n",
       "Anwendung finden.</td>\n",
       "                        <td id=\"T_ef50f46c_1d59_11ec_8b5f_e470b8a9ba13row1_col5\" class=\"data row1 col5\" >['dabei', 'muß', 'klargestellt', 'jetzigen', 'belegschaft', 'wiederanstellung', 'südtiroler', 'arbeits', 'anstellungsmäßig', 'geringste', 'nachteil', 'erwachsen', 'sagt', 'etwa', 'italienischen', 'angestellten', 'arbeiter', 'jahre', '1940', 'nachfolge', 'entlassenen', 'südtiroler', 'antraten', 'platz', 'müßten', 'nein', 'etschwerke', 'infolge', 'wachsenden', 'aufgaben', 'neue', 'arbeitskräfte', 'nötig', 'sollten', 'bisherigen', 'südtiroler', 'rückoptanten', 'zusätzlich', 'aufgenommen', 'sei', 'daran', 'erinnert', 'rückoptanten', 'etschwerken', 'freiwillig', 'dienst', 'schieden', 'option', 'jahre', '1939', 'werk', 'entlassen', 'wurden', 'begründung', 'etschwerke', 'öffentliche', 'körperschaft', 'seien', 'deswegen', 'nichtitalienische', 'staatsbürger', 'mehr', 'beschäftigen', 'dürften', 'fällt', 'letzte', 'scheinheilig', 'mäntelchen', 'wortführer', 'belegschaft', 'nationalgehässige', 'streikdrohung', 'umgeben', 'versuchten', 'nämlich', 'behauptung', 'etschwerke', 'öffentliche', 'körperschaft', 'seien', 'be', 'stimmungen', 'gesetzes', 'jahre', '1952', 'anwendung', 'finden']</td>\n",
       "            </tr>\n",
       "    </tbody></table>"
      ],
      "text/plain": [
       "<pandas.io.formats.style.Styler at 0x237beb98488>"
      ]
     },
     "execution_count": 3,
     "metadata": {},
     "output_type": "execute_result"
    }
   ],
   "source": [
    "#Functions to clean, tokenize, and stem the data\n",
    "import nltk\n",
    "nltk.download('stopwords')\n",
    "nltk.download('punkt')\n",
    "\n",
    "def initial_clean(text):\n",
    "    text = re.sub(r'[^\\w\\s]','',text)\n",
    "    text = text.lower() \n",
    "    text = nltk.word_tokenize(text)\n",
    "    return text\n",
    "\n",
    "stop_words = stopwords.words('german')#change the language here\n",
    "\n",
    "stop_words.extend([]) #add additional words here\n",
    "def remove_stop_words(text):\n",
    "    return [word for word in text if word not in stop_words]\n",
    "\n",
    "def apply_all(text):\n",
    "    return remove_stop_words(initial_clean(text))\n",
    "df['tokenized'] = df['text'].apply(apply_all) \n",
    "df.style.set_caption('Text und Tokens').hide_index()"
   ]
  },
  {
   "cell_type": "markdown",
   "id": "b4ed77cf",
   "metadata": {},
   "source": [
    "## Lemmatisierung von Wörtern <a class=\"anchor\" id=\"4-bullet\"></a>\n",
    "Die lexikographische Reduktion der Flexionsformen eines Wortes auf eine Grundform, also die Festlegung der Grundform eines Lexems und die Anordnung der Lemmata wird auch Lemmatisierung genannt."
   ]
  },
  {
   "cell_type": "code",
   "execution_count": 4,
   "id": "66d0abc2",
   "metadata": {
    "scrolled": false
   },
   "outputs": [
    {
     "data": {
      "text/html": [
       "<style  type=\"text/css\" >\n",
       "</style><table id=\"T_f00746b4_1d59_11ec_ab5f_e470b8a9ba13\" ><caption>Text, tokens und lemmas</caption><thead>    <tr>        <th class=\"col_heading level0 col0\" >jahrgang</th>        <th class=\"col_heading level0 col1\" >zeitung</th>        <th class=\"col_heading level0 col2\" >datum</th>        <th class=\"col_heading level0 col3\" >ausgabe</th>        <th class=\"col_heading level0 col4\" >text</th>        <th class=\"col_heading level0 col5\" >tokenized</th>        <th class=\"col_heading level0 col6\" >lemmatized</th>    </tr></thead><tbody>\n",
       "                <tr>\n",
       "                                <td id=\"T_f00746b4_1d59_11ec_ab5f_e470b8a9ba13row0_col0\" class=\"data row0 col0\" >1946</td>\n",
       "                        <td id=\"T_f00746b4_1d59_11ec_ab5f_e470b8a9ba13row0_col1\" class=\"data row0 col1\" >Dolomiten</td>\n",
       "                        <td id=\"T_f00746b4_1d59_11ec_ab5f_e470b8a9ba13row0_col2\" class=\"data row0 col2\" >1946-11-10 00:00:00</td>\n",
       "                        <td id=\"T_f00746b4_1d59_11ec_ab5f_e470b8a9ba13row0_col3\" class=\"data row0 col3\" >2</td>\n",
       "                        <td id=\"T_f00746b4_1d59_11ec_ab5f_e470b8a9ba13row0_col4\" class=\"data row0 col4\" >Achtung! Südtiroler!\n",
       "\n",
       "\n",
       "Die Optanten für Deutschland, die effektiv abgewandert waren und in der Zwischenzeit wieder nach Italien zurückgekehrt sind,\n",
       "werden ersucht, ihre Erklärungen zwecks Wiedererlangung der italienischen Staatsbürger-\n",
       "schaft erst nach dem 20. Februar 1948 abzu\n",
       "geben, um das Optionsamt im gegenwärtigen\n",
       "Zeitpunkt nicht zu überlasten.\n",
       "Die eingebürgerten Optanten, die in Italien\n",
       "verblieben sind, sowie alle diejenigen, welche\n",
       "nach Art. 15 des Optionsdekretes nicht als\n",
       "„abgewandert“ anzusehen sind, werden dringend aufgefordert, ihre Erklärungen nach Art. 2\n",
       "des erwähnten Optionsdekretes rechtzeitig. d. i. bis zum 20, Februar 1948, einzureichen, und zwar auch dann, wenn sie in den\n",
       "Wählerlisten eingetragen sind, weil sie sonst\n",
       "Gefahr laufen, aus denselben gestrichen zu\n",
       "werden. Es wird ausdrücklich darauf aufmerksam gemacht, daß viele eingebürgerte Optanten\n",
       "die auf Grund der gesetzlichen Bestimmungen\n",
       "nicht als abgewandert zu gelten haben, sowie\n",
       "auch solche, die während der ganzen Zeit Italien überhaupt nie verlassen haben, in den Refistern der Gemeinden als abgewandert figurieren; diese werden daher besonders gebeten,\n",
       "ihre Erklärunden fristgerecht, d. i. bis zum\n",
       "20. Februar 1948, abzugeben, und falls die Eintragung in die Wählerlisten verweigert werden sollte, umgehend bei der Bezirkskommission\n",
       "(Commissione Elettorale Mandamentale) Einspruch zu erheben. Zu diesem Zwecke ist es\n",
       "erforderlich, daß jeder eingebürgerte Optant,\n",
       "der die obenerwähnte Erklärung abgegeben hat,\n",
       "sich persönlich davon überzeugt, ob die Eintragung in die Wählerlisten erfolgt ist.\n",
       "Die sogenannten Rückwähler, das sind diejenigen, welche vor dem 9. September 1943 bei\n",
       "der Präfektur um Annullierung der Option für\n",
       "Deutschland angesucht haben, müssen sich persönlich davon überzeugen, ob sie auf Grund\n",
       "der Rückoption auch tatsächlich wieder als\n",
       "italienische Staatsbürger eingetragen wurden.\n",
       "Ist dies nicht der Fall oder besieht diesbezüglich irgend eine Unsicherheit, so müssen die\n",
       "selben die im Optionsgesetz vorgesehene Erklärung abdeben, weil sonst die Gelahr besteht, daß sie die italienische Staatsbürgerschaft nicht erlangen.\n",
       "Die Optanten werden aufmerksam gemacht,\n",
       "daß die Präfektur Bozen an alle Gemeinden\n",
       "die Weisung ergehen ließ, bei der Ausgabe der\n",
       "Erklärungsformulare keinerlei Schwierigkeiten\n",
       "zu bereiten, weshalb alle Optanten denen die\n",
       "Ausfolgung der Formulare verweigert wurde\n",
       "ersucht werden, dieselben neuerlich anzufordern.</td>\n",
       "                        <td id=\"T_f00746b4_1d59_11ec_ab5f_e470b8a9ba13row0_col5\" class=\"data row0 col5\" >['achtung', 'südtiroler', 'optanten', 'deutschland', 'effektiv', 'abgewandert', 'zwischenzeit', 'italien', 'zurückgekehrt', 'ersucht', 'erklärungen', 'zwecks', 'wiedererlangung', 'italienischen', 'staatsbürger', 'schaft', 'erst', '20', 'februar', '1948', 'abzu', 'geben', 'optionsamt', 'gegenwärtigen', 'zeitpunkt', 'überlasten', 'eingebürgerten', 'optanten', 'italien', 'verblieben', 'sowie', 'diejenigen', 'art', '15', 'optionsdekretes', 'abgewandert', 'anzusehen', 'dringend', 'aufgefordert', 'erklärungen', 'art', '2', 'erwähnten', 'optionsdekretes', 'rechtzeitig', 'd', 'i', '20', 'februar', '1948', 'einzureichen', 'wählerlisten', 'eingetragen', 'gefahr', 'laufen', 'gestrichen', 'ausdrücklich', 'darauf', 'aufmerksam', 'gemacht', 'viele', 'eingebürgerte', 'optanten', 'grund', 'gesetzlichen', 'bestimmungen', 'abgewandert', 'gelten', 'sowie', 'ganzen', 'zeit', 'italien', 'überhaupt', 'nie', 'verlassen', 'refistern', 'gemeinden', 'abgewandert', 'figurieren', 'daher', 'besonders', 'gebeten', 'erklärunden', 'fristgerecht', 'd', 'i', '20', 'februar', '1948', 'abzugeben', 'falls', 'eintragung', 'wählerlisten', 'verweigert', 'umgehend', 'bezirkskommission', 'commissione', 'elettorale', 'mandamentale', 'einspruch', 'erheben', 'zwecke', 'erforderlich', 'eingebürgerte', 'optant', 'obenerwähnte', 'erklärung', 'abgegeben', 'persönlich', 'davon', 'überzeugt', 'eintragung', 'wählerlisten', 'erfolgt', 'sogenannten', 'rückwähler', 'diejenigen', '9', 'september', '1943', 'präfektur', 'annullierung', 'option', 'deutschland', 'angesucht', 'müssen', 'persönlich', 'davon', 'überzeugen', 'grund', 'rückoption', 'tatsächlich', 'italienische', 'staatsbürger', 'eingetragen', 'wurden', 'fall', 'besieht', 'diesbezüglich', 'irgend', 'unsicherheit', 'müssen', 'selben', 'optionsgesetz', 'vorgesehene', 'erklärung', 'abdeben', 'gelahr', 'besteht', 'italienische', 'staatsbürgerschaft', 'erlangen', 'optanten', 'aufmerksam', 'gemacht', 'präfektur', 'bozen', 'gemeinden', 'weisung', 'ergehen', 'ließ', 'ausgabe', 'erklärungsformulare', 'keinerlei', 'schwierigkeiten', 'bereiten', 'weshalb', 'optanten', 'denen', 'ausfolgung', 'formulare', 'verweigert', 'wurde', 'ersucht', 'neuerlich', 'anzufordern']</td>\n",
       "                        <td id=\"T_f00746b4_1d59_11ec_ab5f_e470b8a9ba13row0_col6\" class=\"data row0 col6\" >['achtung', 'südtiroler', 'optanten', 'deutschland', 'effektiv', 'abwandern', 'zwischenzeit', 'italien', 'zurückkehren', 'ersuchen', 'erklärungen', 'zwecks', 'wiedererlangung', 'italienisch', 'staatsbürger', 'schaft', 'erst', '20', 'februar', '1948', 'abzu', 'geben', 'optionsamt', 'gegenwärtig', 'zeitpunkt', 'überlasten', 'eingebürgert', 'optanten', 'italien', 'verbleiben', 'sowie', 'derjenige', 'art', '15', 'optionsdekretes', 'abwandern', 'ansehen', 'dringen', 'auffordern', 'erklärungen', 'art', '2', 'erwähnen', 'optionsdekretes', 'rechtzeitig', 'd', 'i', '20', 'februar', '1948', 'einreichen', 'wählerlisten', 'eintragen', 'gefahr', 'laufen', 'streichen', 'ausdrücklich', 'darauf', 'aufmerksam', 'machen', 'viel', 'eingebürgert', 'optanten', 'grund', 'gesetzlich', 'bestimmungen', 'abwandern', 'gelten', 'sowie', 'ganz', 'zeit', 'italien', 'überhaupt', 'nie', 'verlassen', 'refistern', 'gemeinden', 'abwandern', 'figurieren', 'daher', 'besonders', 'gebeten', 'erklärunden', 'fristgerecht', 'd', 'i', '20', 'februar', '1948', 'abgeben', 'falls', 'eintragung', 'wählerlisten', 'verweigern', 'umgehen', 'bezirkskommission', 'commissione', 'elettorale', 'mandamentale', 'einspruch', 'erheben', 'zwecke', 'erforderlich', 'eingebürgert', 'optant', 'obenerwähnte', 'erklärung', 'abgeben', 'persönlich', 'davon', 'überzeugen', 'eintragung', 'wählerlisten', 'erfolgen', 'sogenannt', 'rückwähler', 'derjenige', '9', 'september', '1943', 'präfektur', 'annullierung', 'option', 'deutschland', 'ansuchen', 'müssen', 'persönlich', 'davon', 'überzeugen', 'grund', 'rückoption', 'tatsächlich', 'italienische', 'staatsbürger', 'eintragen', 'werden', 'fall', 'besieht', 'diesbezüglich', 'irgend', 'unsicherheit', 'müssen', 'selben', 'optionsgesetz', 'vorgesehen', 'erklärung', 'abdeben', 'gelahr', 'bestehen', 'italienische', 'staatsbürgerschaft', 'erlangen', 'optanten', 'aufmerksam', 'machen', 'präfektur', 'bozen', 'gemeinden', 'weisung', 'ergehen', 'lassen', 'ausgabe', 'erklärungsformulare', 'keinerlei', 'schwierigkeiten', 'bereit', 'weshalb', 'optanten', 'der', 'ausfolgung', 'formulare', 'verweigern', 'werden', 'ersuchen', 'neuerlich', 'anfordern']</td>\n",
       "            </tr>\n",
       "            <tr>\n",
       "                                <td id=\"T_f00746b4_1d59_11ec_ab5f_e470b8a9ba13row1_col0\" class=\"data row1 col0\" >1947</td>\n",
       "                        <td id=\"T_f00746b4_1d59_11ec_ab5f_e470b8a9ba13row1_col1\" class=\"data row1 col1\" >Dolomiten</td>\n",
       "                        <td id=\"T_f00746b4_1d59_11ec_ab5f_e470b8a9ba13row1_col2\" class=\"data row1 col2\" >1947-11-10 00:00:00</td>\n",
       "                        <td id=\"T_f00746b4_1d59_11ec_ab5f_e470b8a9ba13row1_col3\" class=\"data row1 col3\" >3</td>\n",
       "                        <td id=\"T_f00746b4_1d59_11ec_ab5f_e470b8a9ba13row1_col4\" class=\"data row1 col4\" >\n",
       "Dabei muß klargestellt werden, daß der\n",
       "jetzigen Belegschaft aus der Wiederanstellung der Südtiroler arbeits- und anstellungsmäßig nicht der geringste Nachteil erwachsen\n",
       "würde. Man sagt nicht etwa, daß die italienischen Angestellten und Arbeiter, welche im\n",
       "Jahre 1940 die Nachfolge der entlassenen\n",
       "Südtiroler antraten, diesen wieder Platz machen müßten. Nein, da die Etschwerke infolge\n",
       "ihrer wachsenden Aufgaben, neue Arbeitskräfte nötig haben, sollten zu den bisherigen\n",
       "die Südtiroler Rückoptanten zusätzlich aufgenommen werden.\n",
       "Es sei auch noch daran erinnert, daß diese\n",
       "Rückoptanten bei den Etschwerken nicht freiwillig aus dem Dienst schieden, sondern nach\n",
       "ihrer Option im Jahre 1939 vom Werk entlassen wurden mit der Begründung, daß die\n",
       "Etschwerke eine öffentliche Körperschaft seien\n",
       "und deswegen nichtitalienische Staatsbürger\n",
       "nicht mehr beschäftigen dürften.\n",
       "Damit fällt auch das letzte scheinheilig\n",
       "Mäntelchen, mit welchem die Wortführer der\n",
       "Belegschaft ihre nationalgehässige Streikdrohung zu umgeben versuchten, nämlich die\n",
       "Behauptung, daß die Etschwerke keine öffentliche Körperschaft seien, auf welche die Be¬\n",
       "stimmungen des Gesetzes vom Jahre 1952\n",
       "Anwendung finden.</td>\n",
       "                        <td id=\"T_f00746b4_1d59_11ec_ab5f_e470b8a9ba13row1_col5\" class=\"data row1 col5\" >['dabei', 'muß', 'klargestellt', 'jetzigen', 'belegschaft', 'wiederanstellung', 'südtiroler', 'arbeits', 'anstellungsmäßig', 'geringste', 'nachteil', 'erwachsen', 'sagt', 'etwa', 'italienischen', 'angestellten', 'arbeiter', 'jahre', '1940', 'nachfolge', 'entlassenen', 'südtiroler', 'antraten', 'platz', 'müßten', 'nein', 'etschwerke', 'infolge', 'wachsenden', 'aufgaben', 'neue', 'arbeitskräfte', 'nötig', 'sollten', 'bisherigen', 'südtiroler', 'rückoptanten', 'zusätzlich', 'aufgenommen', 'sei', 'daran', 'erinnert', 'rückoptanten', 'etschwerken', 'freiwillig', 'dienst', 'schieden', 'option', 'jahre', '1939', 'werk', 'entlassen', 'wurden', 'begründung', 'etschwerke', 'öffentliche', 'körperschaft', 'seien', 'deswegen', 'nichtitalienische', 'staatsbürger', 'mehr', 'beschäftigen', 'dürften', 'fällt', 'letzte', 'scheinheilig', 'mäntelchen', 'wortführer', 'belegschaft', 'nationalgehässige', 'streikdrohung', 'umgeben', 'versuchten', 'nämlich', 'behauptung', 'etschwerke', 'öffentliche', 'körperschaft', 'seien', 'be', 'stimmungen', 'gesetzes', 'jahre', '1952', 'anwendung', 'finden']</td>\n",
       "                        <td id=\"T_f00746b4_1d59_11ec_ab5f_e470b8a9ba13row1_col6\" class=\"data row1 col6\" >['dabei', 'muß', 'klarstellen', 'jetzig', 'belegschaft', 'wiederanstellung', 'südtiroler', 'arbeits', 'anstellungsmäßig', 'gering', 'nachteil', 'erwachsen', 'sagen', 'etwa', 'italienisch', 'angestellt', 'arbeiter', 'jahre', '1940', 'nachfolgen', 'entlassen', 'südtiroler', 'antreten', 'platz', 'müssen', 'nein', 'etschwerke', 'infolge', 'wachsend', 'aufgaben', 'neue', 'arbeitskräfte', 'nötigen', 'sollen', 'bisherig', 'südtiroler', 'rückoptanten', 'zusätzlich', 'aufnehmen', 'sein', 'daran', 'erinnern', 'rückoptanten', 'etschwerken', 'freiwillig', 'dienen', 'scheiden', 'option', 'jahre', '1939', 'werk', 'entlassen', 'werden', 'begründung', 'etschwerke', 'öffentlich', 'körperschaft', 'sein', 'deswegen', 'nichtitalienische', 'staatsbürger', 'mehr', 'beschäftigen', 'dürfen', 'fällen', 'letzte', 'scheinheilig', 'mäntelchen', 'wortführer', 'belegschaft', 'nationalgehässige', 'streikdrohung', 'umgeben', 'versuchen', 'nämlich', 'behauptung', 'etschwerke', 'öffentlich', 'körperschaft', 'sein', 'be', 'stimmungen', 'gesetzes', 'jahre', '1952', 'anwendung', 'finden']</td>\n",
       "            </tr>\n",
       "    </tbody></table>"
      ],
      "text/plain": [
       "<pandas.io.formats.style.Styler at 0x237becfb408>"
      ]
     },
     "execution_count": 4,
     "metadata": {},
     "output_type": "execute_result"
    }
   ],
   "source": [
    "from gensim.utils import simple_preprocess\n",
    "def lemmatization(texts):\n",
    "    texts_out = []\n",
    "    nlp = spacy.load('de_core_news_sm')\n",
    "    for sent in texts:\n",
    "        doc = nlp(\" \".join(sent)) \n",
    "        texts_out.append([token.lemma_ for token in doc])   \n",
    "    return texts_out\n",
    "\n",
    "df['lemmatized'] = lemmatization(df['tokenized'])\n",
    "df.style.set_caption('Text, tokens und lemmas').hide_index()"
   ]
  },
  {
   "cell_type": "markdown",
   "id": "8a078795",
   "metadata": {},
   "source": [
    "## Part of Speech Tagging <a class=\"anchor\" id=\"5-bullet\"></a>\n",
    "\n",
    "Unter **Part-of-speech-Tagging** (POS-Tagging) versteht man die Zuordnung von Wörtern und Satzzeichen eines Textes zu Wortarten (englisch part of speech). Hierzu wird sowohl die Definition des Wortes als auch der Kontext (z. B. angrenzende Adjektive oder Nomen) berücksichtigt."
   ]
  },
  {
   "cell_type": "code",
   "execution_count": 5,
   "id": "92e605f5",
   "metadata": {
    "scrolled": false
   },
   "outputs": [
    {
     "data": {
      "text/html": [
       "<style  type=\"text/css\" >\n",
       "</style><table id=\"T_f09a4908_1d59_11ec_8fb1_e470b8a9ba13\" ><caption>Only nouns</caption><thead>    <tr>        <th class=\"col_heading level0 col0\" >jahrgang</th>        <th class=\"col_heading level0 col1\" >zeitung</th>        <th class=\"col_heading level0 col2\" >datum</th>        <th class=\"col_heading level0 col3\" >ausgabe</th>        <th class=\"col_heading level0 col4\" >text</th>        <th class=\"col_heading level0 col5\" >tokenized</th>        <th class=\"col_heading level0 col6\" >lemmatized</th>        <th class=\"col_heading level0 col7\" >tagging</th>    </tr></thead><tbody>\n",
       "                <tr>\n",
       "                                <td id=\"T_f09a4908_1d59_11ec_8fb1_e470b8a9ba13row0_col0\" class=\"data row0 col0\" >1946</td>\n",
       "                        <td id=\"T_f09a4908_1d59_11ec_8fb1_e470b8a9ba13row0_col1\" class=\"data row0 col1\" >Dolomiten</td>\n",
       "                        <td id=\"T_f09a4908_1d59_11ec_8fb1_e470b8a9ba13row0_col2\" class=\"data row0 col2\" >1946-11-10 00:00:00</td>\n",
       "                        <td id=\"T_f09a4908_1d59_11ec_8fb1_e470b8a9ba13row0_col3\" class=\"data row0 col3\" >2</td>\n",
       "                        <td id=\"T_f09a4908_1d59_11ec_8fb1_e470b8a9ba13row0_col4\" class=\"data row0 col4\" >Achtung! Südtiroler!\n",
       "\n",
       "\n",
       "Die Optanten für Deutschland, die effektiv abgewandert waren und in der Zwischenzeit wieder nach Italien zurückgekehrt sind,\n",
       "werden ersucht, ihre Erklärungen zwecks Wiedererlangung der italienischen Staatsbürger-\n",
       "schaft erst nach dem 20. Februar 1948 abzu\n",
       "geben, um das Optionsamt im gegenwärtigen\n",
       "Zeitpunkt nicht zu überlasten.\n",
       "Die eingebürgerten Optanten, die in Italien\n",
       "verblieben sind, sowie alle diejenigen, welche\n",
       "nach Art. 15 des Optionsdekretes nicht als\n",
       "„abgewandert“ anzusehen sind, werden dringend aufgefordert, ihre Erklärungen nach Art. 2\n",
       "des erwähnten Optionsdekretes rechtzeitig. d. i. bis zum 20, Februar 1948, einzureichen, und zwar auch dann, wenn sie in den\n",
       "Wählerlisten eingetragen sind, weil sie sonst\n",
       "Gefahr laufen, aus denselben gestrichen zu\n",
       "werden. Es wird ausdrücklich darauf aufmerksam gemacht, daß viele eingebürgerte Optanten\n",
       "die auf Grund der gesetzlichen Bestimmungen\n",
       "nicht als abgewandert zu gelten haben, sowie\n",
       "auch solche, die während der ganzen Zeit Italien überhaupt nie verlassen haben, in den Refistern der Gemeinden als abgewandert figurieren; diese werden daher besonders gebeten,\n",
       "ihre Erklärunden fristgerecht, d. i. bis zum\n",
       "20. Februar 1948, abzugeben, und falls die Eintragung in die Wählerlisten verweigert werden sollte, umgehend bei der Bezirkskommission\n",
       "(Commissione Elettorale Mandamentale) Einspruch zu erheben. Zu diesem Zwecke ist es\n",
       "erforderlich, daß jeder eingebürgerte Optant,\n",
       "der die obenerwähnte Erklärung abgegeben hat,\n",
       "sich persönlich davon überzeugt, ob die Eintragung in die Wählerlisten erfolgt ist.\n",
       "Die sogenannten Rückwähler, das sind diejenigen, welche vor dem 9. September 1943 bei\n",
       "der Präfektur um Annullierung der Option für\n",
       "Deutschland angesucht haben, müssen sich persönlich davon überzeugen, ob sie auf Grund\n",
       "der Rückoption auch tatsächlich wieder als\n",
       "italienische Staatsbürger eingetragen wurden.\n",
       "Ist dies nicht der Fall oder besieht diesbezüglich irgend eine Unsicherheit, so müssen die\n",
       "selben die im Optionsgesetz vorgesehene Erklärung abdeben, weil sonst die Gelahr besteht, daß sie die italienische Staatsbürgerschaft nicht erlangen.\n",
       "Die Optanten werden aufmerksam gemacht,\n",
       "daß die Präfektur Bozen an alle Gemeinden\n",
       "die Weisung ergehen ließ, bei der Ausgabe der\n",
       "Erklärungsformulare keinerlei Schwierigkeiten\n",
       "zu bereiten, weshalb alle Optanten denen die\n",
       "Ausfolgung der Formulare verweigert wurde\n",
       "ersucht werden, dieselben neuerlich anzufordern.</td>\n",
       "                        <td id=\"T_f09a4908_1d59_11ec_8fb1_e470b8a9ba13row0_col5\" class=\"data row0 col5\" >['achtung', 'südtiroler', 'optanten', 'deutschland', 'effektiv', 'abgewandert', 'zwischenzeit', 'italien', 'zurückgekehrt', 'ersucht', 'erklärungen', 'zwecks', 'wiedererlangung', 'italienischen', 'staatsbürger', 'schaft', 'erst', '20', 'februar', '1948', 'abzu', 'geben', 'optionsamt', 'gegenwärtigen', 'zeitpunkt', 'überlasten', 'eingebürgerten', 'optanten', 'italien', 'verblieben', 'sowie', 'diejenigen', 'art', '15', 'optionsdekretes', 'abgewandert', 'anzusehen', 'dringend', 'aufgefordert', 'erklärungen', 'art', '2', 'erwähnten', 'optionsdekretes', 'rechtzeitig', 'd', 'i', '20', 'februar', '1948', 'einzureichen', 'wählerlisten', 'eingetragen', 'gefahr', 'laufen', 'gestrichen', 'ausdrücklich', 'darauf', 'aufmerksam', 'gemacht', 'viele', 'eingebürgerte', 'optanten', 'grund', 'gesetzlichen', 'bestimmungen', 'abgewandert', 'gelten', 'sowie', 'ganzen', 'zeit', 'italien', 'überhaupt', 'nie', 'verlassen', 'refistern', 'gemeinden', 'abgewandert', 'figurieren', 'daher', 'besonders', 'gebeten', 'erklärunden', 'fristgerecht', 'd', 'i', '20', 'februar', '1948', 'abzugeben', 'falls', 'eintragung', 'wählerlisten', 'verweigert', 'umgehend', 'bezirkskommission', 'commissione', 'elettorale', 'mandamentale', 'einspruch', 'erheben', 'zwecke', 'erforderlich', 'eingebürgerte', 'optant', 'obenerwähnte', 'erklärung', 'abgegeben', 'persönlich', 'davon', 'überzeugt', 'eintragung', 'wählerlisten', 'erfolgt', 'sogenannten', 'rückwähler', 'diejenigen', '9', 'september', '1943', 'präfektur', 'annullierung', 'option', 'deutschland', 'angesucht', 'müssen', 'persönlich', 'davon', 'überzeugen', 'grund', 'rückoption', 'tatsächlich', 'italienische', 'staatsbürger', 'eingetragen', 'wurden', 'fall', 'besieht', 'diesbezüglich', 'irgend', 'unsicherheit', 'müssen', 'selben', 'optionsgesetz', 'vorgesehene', 'erklärung', 'abdeben', 'gelahr', 'besteht', 'italienische', 'staatsbürgerschaft', 'erlangen', 'optanten', 'aufmerksam', 'gemacht', 'präfektur', 'bozen', 'gemeinden', 'weisung', 'ergehen', 'ließ', 'ausgabe', 'erklärungsformulare', 'keinerlei', 'schwierigkeiten', 'bereiten', 'weshalb', 'optanten', 'denen', 'ausfolgung', 'formulare', 'verweigert', 'wurde', 'ersucht', 'neuerlich', 'anzufordern']</td>\n",
       "                        <td id=\"T_f09a4908_1d59_11ec_8fb1_e470b8a9ba13row0_col6\" class=\"data row0 col6\" >['achtung', 'südtiroler', 'optanten', 'deutschland', 'effektiv', 'abwandern', 'zwischenzeit', 'italien', 'zurückkehren', 'ersuchen', 'erklärungen', 'zwecks', 'wiedererlangung', 'italienisch', 'staatsbürger', 'schaft', 'erst', '20', 'februar', '1948', 'abzu', 'geben', 'optionsamt', 'gegenwärtig', 'zeitpunkt', 'überlasten', 'eingebürgert', 'optanten', 'italien', 'verbleiben', 'sowie', 'derjenige', 'art', '15', 'optionsdekretes', 'abwandern', 'ansehen', 'dringen', 'auffordern', 'erklärungen', 'art', '2', 'erwähnen', 'optionsdekretes', 'rechtzeitig', 'd', 'i', '20', 'februar', '1948', 'einreichen', 'wählerlisten', 'eintragen', 'gefahr', 'laufen', 'streichen', 'ausdrücklich', 'darauf', 'aufmerksam', 'machen', 'viel', 'eingebürgert', 'optanten', 'grund', 'gesetzlich', 'bestimmungen', 'abwandern', 'gelten', 'sowie', 'ganz', 'zeit', 'italien', 'überhaupt', 'nie', 'verlassen', 'refistern', 'gemeinden', 'abwandern', 'figurieren', 'daher', 'besonders', 'gebeten', 'erklärunden', 'fristgerecht', 'd', 'i', '20', 'februar', '1948', 'abgeben', 'falls', 'eintragung', 'wählerlisten', 'verweigern', 'umgehen', 'bezirkskommission', 'commissione', 'elettorale', 'mandamentale', 'einspruch', 'erheben', 'zwecke', 'erforderlich', 'eingebürgert', 'optant', 'obenerwähnte', 'erklärung', 'abgeben', 'persönlich', 'davon', 'überzeugen', 'eintragung', 'wählerlisten', 'erfolgen', 'sogenannt', 'rückwähler', 'derjenige', '9', 'september', '1943', 'präfektur', 'annullierung', 'option', 'deutschland', 'ansuchen', 'müssen', 'persönlich', 'davon', 'überzeugen', 'grund', 'rückoption', 'tatsächlich', 'italienische', 'staatsbürger', 'eintragen', 'werden', 'fall', 'besieht', 'diesbezüglich', 'irgend', 'unsicherheit', 'müssen', 'selben', 'optionsgesetz', 'vorgesehen', 'erklärung', 'abdeben', 'gelahr', 'bestehen', 'italienische', 'staatsbürgerschaft', 'erlangen', 'optanten', 'aufmerksam', 'machen', 'präfektur', 'bozen', 'gemeinden', 'weisung', 'ergehen', 'lassen', 'ausgabe', 'erklärungsformulare', 'keinerlei', 'schwierigkeiten', 'bereit', 'weshalb', 'optanten', 'der', 'ausfolgung', 'formulare', 'verweigern', 'werden', 'ersuchen', 'neuerlich', 'anfordern']</td>\n",
       "                        <td id=\"T_f09a4908_1d59_11ec_8fb1_e470b8a9ba13row0_col7\" class=\"data row0 col7\" >['achtung', 'abwandern', 'zwischenzeit', 'erklärungen', 'wiedererlangung', 'schaft', 'februar', 'optionsamt', 'zeitpunkt', 'überlasten', 'optanten', 'art', 'abwandern', 'auffordern', 'erklärungen', 'art', 'optionsdekretes', 'februar', 'wählerlisten', 'gefahr', 'grund', 'abwandern', 'zeit', 'refistern', 'abwandern', 'erklärunden', 'fristgerecht', 'd', 'februar', 'abgeben', 'eintragung', 'verweigern', 'bezirkskommission', 'einspruch', 'zwecke', 'erklärung', 'eintragung', 'erfolgen', 'september', 'präfektur', 'annullierung', 'option', 'grund', 'staatsbürger', 'eintragen', 'fall', 'unsicherheit', 'optionsgesetz', 'erklärung', 'gelahr', 'staatsbürgerschaft', 'optanten', 'präfektur', 'weisung', 'ausgabe', 'erklärungsformulare', 'schwierigkeiten', 'optanten', 'ausfolgung', 'verweigern', 'ersuchen']</td>\n",
       "            </tr>\n",
       "            <tr>\n",
       "                                <td id=\"T_f09a4908_1d59_11ec_8fb1_e470b8a9ba13row1_col0\" class=\"data row1 col0\" >1947</td>\n",
       "                        <td id=\"T_f09a4908_1d59_11ec_8fb1_e470b8a9ba13row1_col1\" class=\"data row1 col1\" >Dolomiten</td>\n",
       "                        <td id=\"T_f09a4908_1d59_11ec_8fb1_e470b8a9ba13row1_col2\" class=\"data row1 col2\" >1947-11-10 00:00:00</td>\n",
       "                        <td id=\"T_f09a4908_1d59_11ec_8fb1_e470b8a9ba13row1_col3\" class=\"data row1 col3\" >3</td>\n",
       "                        <td id=\"T_f09a4908_1d59_11ec_8fb1_e470b8a9ba13row1_col4\" class=\"data row1 col4\" >\n",
       "Dabei muß klargestellt werden, daß der\n",
       "jetzigen Belegschaft aus der Wiederanstellung der Südtiroler arbeits- und anstellungsmäßig nicht der geringste Nachteil erwachsen\n",
       "würde. Man sagt nicht etwa, daß die italienischen Angestellten und Arbeiter, welche im\n",
       "Jahre 1940 die Nachfolge der entlassenen\n",
       "Südtiroler antraten, diesen wieder Platz machen müßten. Nein, da die Etschwerke infolge\n",
       "ihrer wachsenden Aufgaben, neue Arbeitskräfte nötig haben, sollten zu den bisherigen\n",
       "die Südtiroler Rückoptanten zusätzlich aufgenommen werden.\n",
       "Es sei auch noch daran erinnert, daß diese\n",
       "Rückoptanten bei den Etschwerken nicht freiwillig aus dem Dienst schieden, sondern nach\n",
       "ihrer Option im Jahre 1939 vom Werk entlassen wurden mit der Begründung, daß die\n",
       "Etschwerke eine öffentliche Körperschaft seien\n",
       "und deswegen nichtitalienische Staatsbürger\n",
       "nicht mehr beschäftigen dürften.\n",
       "Damit fällt auch das letzte scheinheilig\n",
       "Mäntelchen, mit welchem die Wortführer der\n",
       "Belegschaft ihre nationalgehässige Streikdrohung zu umgeben versuchten, nämlich die\n",
       "Behauptung, daß die Etschwerke keine öffentliche Körperschaft seien, auf welche die Be¬\n",
       "stimmungen des Gesetzes vom Jahre 1952\n",
       "Anwendung finden.</td>\n",
       "                        <td id=\"T_f09a4908_1d59_11ec_8fb1_e470b8a9ba13row1_col5\" class=\"data row1 col5\" >['dabei', 'muß', 'klargestellt', 'jetzigen', 'belegschaft', 'wiederanstellung', 'südtiroler', 'arbeits', 'anstellungsmäßig', 'geringste', 'nachteil', 'erwachsen', 'sagt', 'etwa', 'italienischen', 'angestellten', 'arbeiter', 'jahre', '1940', 'nachfolge', 'entlassenen', 'südtiroler', 'antraten', 'platz', 'müßten', 'nein', 'etschwerke', 'infolge', 'wachsenden', 'aufgaben', 'neue', 'arbeitskräfte', 'nötig', 'sollten', 'bisherigen', 'südtiroler', 'rückoptanten', 'zusätzlich', 'aufgenommen', 'sei', 'daran', 'erinnert', 'rückoptanten', 'etschwerken', 'freiwillig', 'dienst', 'schieden', 'option', 'jahre', '1939', 'werk', 'entlassen', 'wurden', 'begründung', 'etschwerke', 'öffentliche', 'körperschaft', 'seien', 'deswegen', 'nichtitalienische', 'staatsbürger', 'mehr', 'beschäftigen', 'dürften', 'fällt', 'letzte', 'scheinheilig', 'mäntelchen', 'wortführer', 'belegschaft', 'nationalgehässige', 'streikdrohung', 'umgeben', 'versuchten', 'nämlich', 'behauptung', 'etschwerke', 'öffentliche', 'körperschaft', 'seien', 'be', 'stimmungen', 'gesetzes', 'jahre', '1952', 'anwendung', 'finden']</td>\n",
       "                        <td id=\"T_f09a4908_1d59_11ec_8fb1_e470b8a9ba13row1_col6\" class=\"data row1 col6\" >['dabei', 'muß', 'klarstellen', 'jetzig', 'belegschaft', 'wiederanstellung', 'südtiroler', 'arbeits', 'anstellungsmäßig', 'gering', 'nachteil', 'erwachsen', 'sagen', 'etwa', 'italienisch', 'angestellt', 'arbeiter', 'jahre', '1940', 'nachfolgen', 'entlassen', 'südtiroler', 'antreten', 'platz', 'müssen', 'nein', 'etschwerke', 'infolge', 'wachsend', 'aufgaben', 'neue', 'arbeitskräfte', 'nötigen', 'sollen', 'bisherig', 'südtiroler', 'rückoptanten', 'zusätzlich', 'aufnehmen', 'sein', 'daran', 'erinnern', 'rückoptanten', 'etschwerken', 'freiwillig', 'dienen', 'scheiden', 'option', 'jahre', '1939', 'werk', 'entlassen', 'werden', 'begründung', 'etschwerke', 'öffentlich', 'körperschaft', 'sein', 'deswegen', 'nichtitalienische', 'staatsbürger', 'mehr', 'beschäftigen', 'dürfen', 'fällen', 'letzte', 'scheinheilig', 'mäntelchen', 'wortführer', 'belegschaft', 'nationalgehässige', 'streikdrohung', 'umgeben', 'versuchen', 'nämlich', 'behauptung', 'etschwerke', 'öffentlich', 'körperschaft', 'sein', 'be', 'stimmungen', 'gesetzes', 'jahre', '1952', 'anwendung', 'finden']</td>\n",
       "                        <td id=\"T_f09a4908_1d59_11ec_8fb1_e470b8a9ba13row1_col7\" class=\"data row1 col7\" >['klarstellen', 'belegschaft', 'wiederanstellung', 'arbeits', 'nachteil', 'erwachsen', 'jahre', 'platz', 'etschwerke', 'aufgaben', 'arbeitskräfte', 'rückoptanten', 'aufnehmen', 'etschwerken', 'option', 'jahre', 'werk', 'begründung', 'staatsbürger', 'fällen', 'belegschaft', 'streikdrohung', 'behauptung', 'jahre', 'anwendung']</td>\n",
       "            </tr>\n",
       "    </tbody></table>"
      ],
      "text/plain": [
       "<pandas.io.formats.style.Styler at 0x237be550f08>"
      ]
     },
     "execution_count": 5,
     "metadata": {},
     "output_type": "execute_result"
    }
   ],
   "source": [
    "def tagging(texts, allowed_postags=['NOUN']): # possible tags'NOUN', 'ADJ', 'ADV', 'VERB'\n",
    "    texts_out = []\n",
    "    nlp = spacy.load('de_core_news_sm')\n",
    "    for sent in texts:\n",
    "        doc = nlp(\" \".join(sent)) \n",
    "        texts_out.append([token.lemma_ for token in doc if token.pos_ in allowed_postags])   \n",
    "    return texts_out\n",
    "\n",
    "df['tagging'] = tagging(df['lemmatized'])\n",
    "df.style.set_caption('Only nouns').hide_index()"
   ]
  },
  {
   "cell_type": "markdown",
   "id": "3cf35728",
   "metadata": {},
   "source": [
    "## Named Emtities Recognition <a class=\"anchor\" id=\"6-bullet\"></a>"
   ]
  },
  {
   "cell_type": "code",
   "execution_count": 6,
   "id": "938ddda3",
   "metadata": {},
   "outputs": [
    {
     "data": {
      "text/html": [
       "<span class=\"tex2jax_ignore\"><div class=\"entities\" style=\"line-height: 2.5; direction: ltr\">\n",
       "<mark class=\"entity\" style=\"background: #7aecec; padding: 0.45em 0.6em; margin: 0 0.25em; line-height: 1; border-radius: 0.35em;\">\n",
       "    Achtung!\n",
       "    <span style=\"font-size: 0.8em; font-weight: bold; line-height: 1; border-radius: 0.35em; text-transform: uppercase; vertical-align: middle; margin-left: 0.5rem\">ORG</span>\n",
       "</mark>\n",
       " Südtiroler!</br></br></br>Die Optanten für \n",
       "<mark class=\"entity\" style=\"background: #ff9561; padding: 0.45em 0.6em; margin: 0 0.25em; line-height: 1; border-radius: 0.35em;\">\n",
       "    Deutschland\n",
       "    <span style=\"font-size: 0.8em; font-weight: bold; line-height: 1; border-radius: 0.35em; text-transform: uppercase; vertical-align: middle; margin-left: 0.5rem\">LOC</span>\n",
       "</mark>\n",
       ", die effektiv abgewandert waren und in der Zwischenzeit wieder nach \n",
       "<mark class=\"entity\" style=\"background: #ff9561; padding: 0.45em 0.6em; margin: 0 0.25em; line-height: 1; border-radius: 0.35em;\">\n",
       "    Italien\n",
       "    <span style=\"font-size: 0.8em; font-weight: bold; line-height: 1; border-radius: 0.35em; text-transform: uppercase; vertical-align: middle; margin-left: 0.5rem\">LOC</span>\n",
       "</mark>\n",
       " zurückgekehrt sind,</br>werden ersucht, ihre Erklärungen zwecks Wiedererlangung der \n",
       "<mark class=\"entity\" style=\"background: #ddd; padding: 0.45em 0.6em; margin: 0 0.25em; line-height: 1; border-radius: 0.35em;\">\n",
       "    italienischen\n",
       "    <span style=\"font-size: 0.8em; font-weight: bold; line-height: 1; border-radius: 0.35em; text-transform: uppercase; vertical-align: middle; margin-left: 0.5rem\">MISC</span>\n",
       "</mark>\n",
       " Staatsbürger-</br>schaft erst nach dem 20. Februar 1948 abzu</br>geben, um das Optionsamt im gegenwärtigen</br>Zeitpunkt nicht zu überlasten.</br>Die eingebürgerten Optanten, die in \n",
       "<mark class=\"entity\" style=\"background: #ff9561; padding: 0.45em 0.6em; margin: 0 0.25em; line-height: 1; border-radius: 0.35em;\">\n",
       "    Italien\n",
       "    <span style=\"font-size: 0.8em; font-weight: bold; line-height: 1; border-radius: 0.35em; text-transform: uppercase; vertical-align: middle; margin-left: 0.5rem\">LOC</span>\n",
       "</mark>\n",
       "</br>verblieben sind, sowie alle diejenigen, welche</br>nach Art. 15 des Optionsdekretes nicht als</br>„abgewandert“ anzusehen sind, werden dringend aufgefordert, ihre Erklärungen nach Art. 2</br>des erwähnten Optionsdekretes rechtzeitig. d. i. bis zum 20, Februar 1948, einzureichen, und zwar auch dann, wenn sie in den</br>Wählerlisten eingetragen sind, weil sie sonst</br>Gefahr laufen, aus denselben gestrichen zu</br>werden. Es wird ausdrücklich darauf aufmerksam gemacht, daß viele eingebürgerte Optanten</br>die auf Grund der gesetzlichen Bestimmungen</br>nicht als abgewandert zu gelten haben, sowie</br>auch solche, die während der ganzen \n",
       "<mark class=\"entity\" style=\"background: #ff9561; padding: 0.45em 0.6em; margin: 0 0.25em; line-height: 1; border-radius: 0.35em;\">\n",
       "    Zeit Italien\n",
       "    <span style=\"font-size: 0.8em; font-weight: bold; line-height: 1; border-radius: 0.35em; text-transform: uppercase; vertical-align: middle; margin-left: 0.5rem\">LOC</span>\n",
       "</mark>\n",
       " überhaupt nie verlassen haben, in den Refistern der Gemeinden als abgewandert figurieren; diese werden daher besonders gebeten,</br>ihre Erklärunden fristgerecht, d. i. bis zum</br>20. Februar 1948, abzugeben, und falls die Eintragung in die Wählerlisten verweigert werden sollte, umgehend bei der Bezirkskommission</br>(\n",
       "<mark class=\"entity\" style=\"background: #ddd; padding: 0.45em 0.6em; margin: 0 0.25em; line-height: 1; border-radius: 0.35em;\">\n",
       "    Commissione Elettorale Mandamentale\n",
       "    <span style=\"font-size: 0.8em; font-weight: bold; line-height: 1; border-radius: 0.35em; text-transform: uppercase; vertical-align: middle; margin-left: 0.5rem\">MISC</span>\n",
       "</mark>\n",
       ") Einspruch zu erheben. Zu diesem Zwecke ist es</br>erforderlich, daß jeder eingebürgerte Optant,</br>der die obenerwähnte Erklärung abgegeben hat,</br>sich persönlich davon überzeugt, ob die Eintragung in die Wählerlisten erfolgt ist.</br>Die sogenannten Rückwähler, das sind diejenigen, welche vor dem 9. September 1943 bei</br>der Präfektur um Annullierung der Option für</br>Deutschland angesucht haben, müssen sich persönlich davon überzeugen, ob sie auf Grund</br>der Rückoption auch tatsächlich wieder als</br>\n",
       "<mark class=\"entity\" style=\"background: #ddd; padding: 0.45em 0.6em; margin: 0 0.25em; line-height: 1; border-radius: 0.35em;\">\n",
       "    italienische\n",
       "    <span style=\"font-size: 0.8em; font-weight: bold; line-height: 1; border-radius: 0.35em; text-transform: uppercase; vertical-align: middle; margin-left: 0.5rem\">MISC</span>\n",
       "</mark>\n",
       " Staatsbürger eingetragen wurden.</br>Ist dies nicht der Fall oder besieht diesbezüglich irgend eine Unsicherheit, so müssen die</br>selben die im Optionsgesetz vorgesehene Erklärung abdeben, weil sonst die Gelahr besteht, daß sie die \n",
       "<mark class=\"entity\" style=\"background: #ddd; padding: 0.45em 0.6em; margin: 0 0.25em; line-height: 1; border-radius: 0.35em;\">\n",
       "    italienische\n",
       "    <span style=\"font-size: 0.8em; font-weight: bold; line-height: 1; border-radius: 0.35em; text-transform: uppercase; vertical-align: middle; margin-left: 0.5rem\">MISC</span>\n",
       "</mark>\n",
       " Staatsbürgerschaft nicht erlangen.</br>Die Optanten werden aufmerksam gemacht,</br>daß die \n",
       "<mark class=\"entity\" style=\"background: #ff9561; padding: 0.45em 0.6em; margin: 0 0.25em; line-height: 1; border-radius: 0.35em;\">\n",
       "    Präfektur Bozen\n",
       "    <span style=\"font-size: 0.8em; font-weight: bold; line-height: 1; border-radius: 0.35em; text-transform: uppercase; vertical-align: middle; margin-left: 0.5rem\">LOC</span>\n",
       "</mark>\n",
       " an alle Gemeinden\n",
       "die Weisung ergehen ließ, bei der Ausgabe der\n",
       "Erklärungsformulare keinerlei Schwierigkeiten\n",
       "zu bereiten, weshalb alle Optanten denen die\n",
       "Ausfolgung der Formulare verweigert wurde\n",
       "ersucht werden, dieselben neuerlich anzufordern.</div></span>"
      ],
      "text/plain": [
       "<IPython.core.display.HTML object>"
      ]
     },
     "metadata": {},
     "output_type": "display_data"
    },
    {
     "name": "stdout",
     "output_type": "stream",
     "text": [
      "None\n"
     ]
    }
   ],
   "source": [
    "from spacy import displacy\n",
    "NER = spacy.load('de_core_news_sm')\n",
    "data_ready2 = NER(df['text'][0])\n",
    "text = displacy.render(data_ready2,style=\"ent\",jupyter=True)\n",
    "print(text)"
   ]
  },
  {
   "cell_type": "code",
   "execution_count": 7,
   "id": "7671a749",
   "metadata": {},
   "outputs": [
    {
     "name": "stdout",
     "output_type": "stream",
     "text": [
      "deutschland LOC\n",
      "italien LOC\n",
      "italien LOC\n",
      "italien LOC\n",
      "deutschland LOC\n",
      "italienische MISC\n",
      "italienische MISC\n",
      "präfektur bozen LOC\n"
     ]
    }
   ],
   "source": [
    "for i in range(len(df)) :\n",
    "    df.iloc[i,6] = ' '.join(df.iloc[i,6])\n",
    "nlp = spacy.load('de_core_news_sm')\n",
    "doc = nlp(df['lemmatized'][0])\n",
    "for ent in doc.ents:\n",
    "    print(ent.text, ent.label_)  "
   ]
  },
  {
   "cell_type": "markdown",
   "id": "7581163f",
   "metadata": {},
   "source": [
    "## Gewünschten Text exportieren <a class=\"anchor\" id=\"7-bullet\"></a>\n",
    "\n",
    "Am Ende können Sie die gewünschten Resultate in Form der Excel Tabelle exportieren. "
   ]
  },
  {
   "cell_type": "code",
   "execution_count": 8,
   "id": "274945fa",
   "metadata": {
    "scrolled": false
   },
   "outputs": [
    {
     "data": {
      "text/html": [
       "<div>\n",
       "<style scoped>\n",
       "    .dataframe tbody tr th:only-of-type {\n",
       "        vertical-align: middle;\n",
       "    }\n",
       "\n",
       "    .dataframe tbody tr th {\n",
       "        vertical-align: top;\n",
       "    }\n",
       "\n",
       "    .dataframe thead th {\n",
       "        text-align: right;\n",
       "    }\n",
       "</style>\n",
       "<table border=\"1\" class=\"dataframe\">\n",
       "  <thead>\n",
       "    <tr style=\"text-align: right;\">\n",
       "      <th></th>\n",
       "      <th>jahrgang</th>\n",
       "      <th>zeitung</th>\n",
       "      <th>datum</th>\n",
       "      <th>ausgabe</th>\n",
       "      <th>text</th>\n",
       "      <th>lemmatized</th>\n",
       "    </tr>\n",
       "  </thead>\n",
       "  <tbody>\n",
       "    <tr>\n",
       "      <th>0</th>\n",
       "      <td>1946</td>\n",
       "      <td>Dolomiten</td>\n",
       "      <td>1946-11-10</td>\n",
       "      <td>2</td>\n",
       "      <td>Achtung! Südtiroler!\\n\\n\\nDie Optanten für Deu...</td>\n",
       "      <td>achtung südtiroler optanten deutschland effekt...</td>\n",
       "    </tr>\n",
       "    <tr>\n",
       "      <th>1</th>\n",
       "      <td>1947</td>\n",
       "      <td>Dolomiten</td>\n",
       "      <td>1947-11-10</td>\n",
       "      <td>3</td>\n",
       "      <td>\\nDabei muß klargestellt werden, daß der\\njetz...</td>\n",
       "      <td>dabei muß klarstellen jetzig belegschaft wiede...</td>\n",
       "    </tr>\n",
       "  </tbody>\n",
       "</table>\n",
       "</div>"
      ],
      "text/plain": [
       "   jahrgang    zeitung      datum  ausgabe  \\\n",
       "0      1946  Dolomiten 1946-11-10        2   \n",
       "1      1947  Dolomiten 1947-11-10        3   \n",
       "\n",
       "                                                text  \\\n",
       "0  Achtung! Südtiroler!\\n\\n\\nDie Optanten für Deu...   \n",
       "1  \\nDabei muß klargestellt werden, daß der\\njetz...   \n",
       "\n",
       "                                          lemmatized  \n",
       "0  achtung südtiroler optanten deutschland effekt...  \n",
       "1  dabei muß klarstellen jetzig belegschaft wiede...  "
      ]
     },
     "execution_count": 8,
     "metadata": {},
     "output_type": "execute_result"
    }
   ],
   "source": [
    "\n",
    "deselectlist =[ 'tokenized', 'tagging']\n",
    "selectlist =[x for x in df.columns if x not in deselectlist]\n",
    "df = df[selectlist]\n",
    "    \n",
    "df.to_excel('results.xlsx')\n",
    "df"
   ]
  }
 ],
 "metadata": {
  "kernelspec": {
   "display_name": "Python 3",
   "language": "python",
   "name": "python3"
  },
  "language_info": {
   "codemirror_mode": {
    "name": "ipython",
    "version": 3
   },
   "file_extension": ".py",
   "mimetype": "text/x-python",
   "name": "python",
   "nbconvert_exporter": "python",
   "pygments_lexer": "ipython3",
   "version": "3.7.4"
  }
 },
 "nbformat": 4,
 "nbformat_minor": 5
}
