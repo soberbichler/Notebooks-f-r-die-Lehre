{
 "cells": [
  {
   "cell_type": "markdown",
   "id": "54598b4b",
   "metadata": {},
   "source": [
    "# Pre-Processing: Vom Text zu Daten"
   ]
  },
  {
   "cell_type": "markdown",
   "id": "dff4fca2",
   "metadata": {},
   "source": [
    "## Ablauf...\n",
    "\n",
    "* [Run code](#1-bullet)\n",
    "* [Tabelle mit Texten importieren](#2-bullet)\n",
    "* [Den Text \"reinigen\" und Stop-Wörter entfernen](#3-bullet)\n",
    "* [Lemmatisierung von Wörtern](#4-bullet)\n",
    "* [Part of Speech Tagging](#5-bullet)\n",
    "* [Named Emtities Recognition](6#-bullet)\n",
    "* [Gewünschten Text exportieren](#7-bullet)"
   ]
  },
  {
   "cell_type": "markdown",
   "id": "f9de86e6",
   "metadata": {},
   "source": [
    "## Run code <a class=\"anchor\" id=\"1-bullet\"></a>\n",
    "\n",
    "Um Code in *Jupyter Notebooks* auszühren, müssen Sie auf **Run** klicken, das sich in der oberen Leiste finden. Klicken Sie dafür zunächst auf das Feld, das Sie ausführen möchten und anschließend auf **Run**. Sie können auch 'Shift' und 'enter' verwenden. Wenn der Code gerade ausgeführt, erscheint links im Kästchen ein Sternchen. Dies bedeutet, dass das Programm gerade arbeitet. Wurde der Code erfolgreich ausgeführt. erscheint eine Nummer im selben Kästchen."
   ]
  },
  {
   "cell_type": "code",
   "execution_count": null,
   "id": "b888d723",
   "metadata": {},
   "outputs": [],
   "source": [
    "#languange processing imports\n",
    "import gensim, spacy, logging, warnings\n",
    "import matplotlib.pyplot as plt\n",
    "import nltk\n",
    "from nltk.corpus import stopwords\n",
    "import sys\n",
    "import re, numpy as np, pandas as pd\n",
    "from pprint import pprint\n",
    "import spacy\n",
    "from openpyxl import Workbook\n",
    "\n",
    "#For the text overview\n",
    "from nltk import FreqDist\n",
    "\n",
    "#Word Cloud and Visualization\n",
    "\n",
    "from wordcloud import WordCloud, STOPWORDS\n",
    "from sklearn.feature_extraction.text import CountVectorizer\n",
    "import matplotlib.ticker as mtick\n",
    "import matplotlib.pyplot as plt"
   ]
  },
  {
   "cell_type": "markdown",
   "id": "9f555df4",
   "metadata": {},
   "source": [
    "## Tabelle mit Texten importieren <a class=\"anchor\" id=\"2-bullet\"></a>\n",
    "\n",
    "Hier sehen Sie die importierte Excel-Tabelle"
   ]
  },
  {
   "cell_type": "code",
   "execution_count": null,
   "id": "d86b5831",
   "metadata": {},
   "outputs": [],
   "source": [
    "df = pd.read_excel(('Data/test.xlsx'), engine='openpyxl',)\n",
    "df_text = df['text']\n",
    "df.style.set_caption('Excel Tabelle').hide_index()"
   ]
  },
  {
   "cell_type": "markdown",
   "id": "8e7c0cde",
   "metadata": {},
   "source": [
    "## Den Text \"reinigen\" und Stop-Wörter entfernen <a class=\"anchor\" id=\"3-bullet\"></a>\n",
    "\n",
    "Nun wird der Text gereinigt, das heißt, es werden Satzzeichen entfernt, alle Wörter werden einheitlich klein geschrieben und Stop-Wörter werden entfernt. Stop-Wörter sind Wörter, die häufig vorkommen und haben für gewöhnlich keine Relevanz für weitere Analysen. Hierzu gehören Wörter wie \"und\", \"auf\", \"mit\" usw. "
   ]
  },
  {
   "cell_type": "code",
   "execution_count": null,
   "id": "4a8a10d3",
   "metadata": {
    "scrolled": false
   },
   "outputs": [],
   "source": [
    "#Functions to clean, tokenize, and stem the data\n",
    "import nltk\n",
    "nltk.download('stopwords')\n",
    "nltk.download('punkt')\n",
    "\n",
    "def initial_clean(text):\n",
    "    text = re.sub(r'[^\\w\\s]','',text)\n",
    "    text = text.lower() \n",
    "    text = nltk.word_tokenize(text)\n",
    "    return text\n",
    "\n",
    "stop_words = stopwords.words('german')#change the language here\n",
    "\n",
    "stop_words.extend([]) #add additional words here\n",
    "def remove_stop_words(text):\n",
    "    return [word for word in text if word not in stop_words]\n",
    "\n",
    "def apply_all(text):\n",
    "    return remove_stop_words(initial_clean(text))\n",
    "df['tokenized'] = df['text'].apply(apply_all) \n",
    "df.style.set_caption('Text und Tokens').hide_index()"
   ]
  },
  {
   "cell_type": "markdown",
   "id": "e64001ed",
   "metadata": {},
   "source": [
    "## Lemmatisierung von Wörtern <a class=\"anchor\" id=\"4-bullet\"></a>\n",
    "Die lexikographische Reduktion der Flexionsformen eines Wortes auf eine Grundform, also die Festlegung der Grundform eines Lexems und die Anordnung der Lemmata wird auch Lemmatisierung genannt."
   ]
  },
  {
   "cell_type": "code",
   "execution_count": null,
   "id": "8ca62add",
   "metadata": {
    "scrolled": false
   },
   "outputs": [],
   "source": [
    "from gensim.utils import simple_preprocess\n",
    "def lemmatization(texts):\n",
    "    texts_out = []\n",
    "    nlp = spacy.load('de_core_news_sm')\n",
    "    for sent in texts:\n",
    "        doc = nlp(\" \".join(sent)) \n",
    "        texts_out.append([token.lemma_ for token in doc])   \n",
    "    return texts_out\n",
    "\n",
    "df['lemmatized'] = lemmatization(df['tokenized'])\n",
    "df.style.set_caption('Text, tokens und lemmas').hide_index()"
   ]
  },
  {
   "cell_type": "markdown",
   "id": "e5685e97",
   "metadata": {},
   "source": [
    "## Part of Speech Tagging <a class=\"anchor\" id=\"5-bullet\"></a>\n",
    "\n",
    "Unter **Part-of-speech-Tagging** (POS-Tagging) versteht man die Zuordnung von Wörtern und Satzzeichen eines Textes zu Wortarten (englisch part of speech). Hierzu wird sowohl die Definition des Wortes als auch der Kontext (z. B. angrenzende Adjektive oder Nomen) berücksichtigt."
   ]
  },
  {
   "cell_type": "code",
   "execution_count": null,
   "id": "2f438d48",
   "metadata": {
    "scrolled": false
   },
   "outputs": [],
   "source": [
    "def tagging(texts, allowed_postags=['NOUN']): # possible tags'NOUN', 'ADJ', 'ADV', 'VERB'\n",
    "    texts_out = []\n",
    "    nlp = spacy.load('de_core_news_sm')\n",
    "    for sent in texts:\n",
    "        doc = nlp(\" \".join(sent)) \n",
    "        texts_out.append([token.lemma_ for token in doc if token.pos_ in allowed_postags])   \n",
    "    return texts_out\n",
    "\n",
    "df['tagging'] = tagging(df['lemmatized'])\n",
    "df.style.set_caption('Only nouns').hide_index()"
   ]
  },
  {
   "cell_type": "markdown",
   "id": "f6100772",
   "metadata": {},
   "source": [
    "## Named Emtities Recognition <a class=\"anchor\" id=\"6-bullet\"></a>"
   ]
  },
  {
   "cell_type": "code",
   "execution_count": null,
   "id": "84f7e186",
   "metadata": {},
   "outputs": [],
   "source": [
    "from spacy import displacy\n",
    "NER = spacy.load('de_core_news_sm')\n",
    "data_ready2 = NER(df['text'][0])\n",
    "text = displacy.render(data_ready2,style=\"ent\",jupyter=True)\n",
    "print(text)"
   ]
  },
  {
   "cell_type": "code",
   "execution_count": null,
   "id": "d35e03dd",
   "metadata": {},
   "outputs": [],
   "source": [
    "for i in range(len(df)) :\n",
    "    df.iloc[i,6] = ' '.join(df.iloc[i,6])\n",
    "nlp = spacy.load('de_core_news_sm')\n",
    "doc = nlp(df['lemmatized'][0])\n",
    "for ent in doc.ents:\n",
    "    print(ent.text, ent.label_)  "
   ]
  },
  {
   "cell_type": "markdown",
   "id": "c44dbda9",
   "metadata": {},
   "source": [
    "## Gewünschten Text exportieren <a class=\"anchor\" id=\"7-bullet\"></a>\n",
    "\n",
    "Am Ende können Sie die gewünschten Resultate in Form der Excel Tabelle exportieren. "
   ]
  },
  {
   "cell_type": "code",
   "execution_count": null,
   "id": "797c0a71",
   "metadata": {
    "scrolled": false
   },
   "outputs": [],
   "source": [
    "\n",
    "deselectlist =[ 'tokenized', 'tagging']\n",
    "selectlist =[x for x in df.columns if x not in deselectlist]\n",
    "df = df[selectlist]\n",
    "    \n",
    "df.to_excel('results.xlsx')\n",
    "df"
   ]
  }
 ],
 "metadata": {
  "kernelspec": {
   "display_name": "Python 3",
   "language": "python",
   "name": "python3"
  },
  "language_info": {
   "codemirror_mode": {
    "name": "ipython",
    "version": 3
   },
   "file_extension": ".py",
   "mimetype": "text/x-python",
   "name": "python",
   "nbconvert_exporter": "python",
   "pygments_lexer": "ipython3",
   "version": "3.7.4"
  }
 },
 "nbformat": 4,
 "nbformat_minor": 5
}
